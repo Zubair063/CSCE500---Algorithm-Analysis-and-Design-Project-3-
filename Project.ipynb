{
 "cells": [
  {
   "cell_type": "markdown",
   "id": "a1348f47",
   "metadata": {},
   "source": [
    "## Project 3: Find closest pair of points\n",
    "Given a set of *n* integer-valued points in a 2-D plane, find the closest pair of points with respect to the Manhattan distance. The Manhattan distance between two points $(x, y)$ and $(x', y')$ is defined as: $|x - x'| + |y - y'|$. \n",
    "\n",
    "### Input:\n",
    "- The input is taken from the standard input (console).\n",
    "- The first line of input contains an integer *n*, representing the number of points in the set.\n",
    "- The points are indexed from **1 to n**.\n",
    "- Each of the following *n* lines contains two integers *x* and *y*, representing the x- and y-coordinates of a point in the plane.\n",
    "\n",
    "### Output:\n",
    "- The output is printed onto the standard output (console).\n",
    "- The first line contains the Manhattan distance of the two closest points.\n",
    "- The second line contains the indices of the points, separated by a space.\n",
    "- If there are multiple pairs achieving the minimum Manhattan distance, you can output any pair.\n",
    "\n",
    "### Example:\n",
    "#### Input:\n",
    "```\n",
    "7\n",
    "0 0\n",
    "1 2\n",
    "5 5\n",
    "-2 -3\n",
    "4 6\n",
    "7 8\n",
    "9 2\n",
    "```\n",
    "\n",
    "#### Output:\n",
    "```\n",
    "2\n",
    "3 5\n",
    "```\n",
    "\n",
    "This indicates that the closest pair of points with respect to the Manhattan distance is **point 3 and point 5**. They have a Manhattan distance of **2**.\n",
    "\n",
    "### Constraints:\n",
    "-  $1 \\leq n \\leq 10^6$\n",
    "- The coordinates of the points are integers in $[-10^9, 10^9]$.\n",
    "- It is expected that your program will terminate in **10 seconds**.\n"
   ]
  },
  {
   "cell_type": "markdown",
   "id": "d14dff15",
   "metadata": {},
   "source": [
    "## Efficient Implementation with Python"
   ]
  },
  {
   "cell_type": "code",
   "execution_count": 1,
   "id": "abe5aa86",
   "metadata": {},
   "outputs": [],
   "source": [
    "def manhattan_distance(p1, p2):\n",
    "    return abs(p1[0] - p2[0]) + abs(p1[1] - p2[1])\n",
    "\n",
    "def find_closest_pair(points):\n",
    "    n = len(points)\n",
    "    \n",
    "    # Assign indices (1-based) to the points\n",
    "    indexed_points = [(x, y, i+1) for i, (x, y) in enumerate(points)]\n",
    "    # Sort points based on x + y (Manhattan metric transformation)\n",
    "    sorted_sum = sorted(indexed_points, key=lambda p: p[0] + p[1])\n",
    "    \n",
    "    # Sort points based on x - y\n",
    "    sorted_diff = sorted(indexed_points, key=lambda p: p[0] - p[1])\n",
    "    \n",
    "    min_dist = float('inf')\n",
    "    best_pair = None\n",
    "    \n",
    "    \n",
    "    # Check consecutive pairs in both sorted lists\n",
    "    for sorted_list in [sorted_sum, sorted_diff]:\n",
    "        for i in range(len(sorted_list) - 1):\n",
    "            p1 = sorted_list[i]\n",
    "            p2 = sorted_list[i + 1]\n",
    "            dist = manhattan_distance((p1[0], p1[1]), (p2[0], p2[1]))\n",
    "\n",
    "            if dist < min_dist:\n",
    "                min_dist = dist\n",
    "                best_pair = (p1[2], p2[2])\n",
    "\n",
    "    # Output results\n",
    "    print(min_dist)\n",
    "    print(*sorted(best_pair))\n",
    "\n"
   ]
  },
  {
   "cell_type": "code",
   "execution_count": 2,
   "id": "41301d2e",
   "metadata": {},
   "outputs": [
    {
     "name": "stdout",
     "output_type": "stream",
     "text": [
      "Input Points\n",
      "7\n",
      "Enter the points\n",
      "0 0\n",
      "1 2\n",
      "5 5\n",
      "-2 -3\n",
      "4 6\n",
      "7 8\n",
      "9 2\n",
      "Output\n",
      "2\n",
      "3 5\n"
     ]
    }
   ],
   "source": [
    "# Taking input\n",
    "if __name__ == \"__main__\":\n",
    "    print(\"Input Points\")\n",
    "    n = int(input().strip())  # Read number of points\n",
    "    print(\"Enter the points\")\n",
    "    points = [tuple(map(int, input().split())) for _ in range(n)]  # Read (x, y) coordinates\n",
    "    print(\"Output\")\n",
    "    find_closest_pair(points)"
   ]
  },
  {
   "cell_type": "code",
   "execution_count": null,
   "id": "2527b58e",
   "metadata": {},
   "outputs": [],
   "source": []
  }
 ],
 "metadata": {
  "kernelspec": {
   "display_name": "Python 3 (ipykernel)",
   "language": "python",
   "name": "python3"
  },
  "language_info": {
   "codemirror_mode": {
    "name": "ipython",
    "version": 3
   },
   "file_extension": ".py",
   "mimetype": "text/x-python",
   "name": "python",
   "nbconvert_exporter": "python",
   "pygments_lexer": "ipython3",
   "version": "3.9.16"
  }
 },
 "nbformat": 4,
 "nbformat_minor": 5
}
